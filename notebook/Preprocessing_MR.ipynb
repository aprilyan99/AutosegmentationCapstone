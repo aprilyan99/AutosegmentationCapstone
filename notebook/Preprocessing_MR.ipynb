{
 "cells": [
  {
   "cell_type": "markdown",
   "id": "7c150170",
   "metadata": {},
   "source": [
    "### Load Data"
   ]
  },
  {
   "cell_type": "code",
   "execution_count": 4,
   "id": "1ed4162a",
   "metadata": {},
   "outputs": [],
   "source": [
    "%matplotlib inline\n",
    "import numpy as np\n",
    "from matplotlib import pyplot as plt\n",
    "import os\n",
    "import nibabel as nib\n",
    "import SimpleITK as sitk\n",
    "from nipype.interfaces.ants import N4BiasFieldCorrection\n",
    "\n",
    "import os\n",
    "import multiprocessing\n",
    "from subprocess import call\n",
    "from joblib import Parallel, delayed"
   ]
  },
  {
   "cell_type": "code",
   "execution_count": 5,
   "id": "a5cb8abe",
   "metadata": {},
   "outputs": [
    {
     "name": "stdout",
     "output_type": "stream",
     "text": [
      "260\n"
     ]
    }
   ],
   "source": [
    "data_path = \"Task04_Hippocampus/\"  # \"Task01_BrainTumour/\"\n",
    "folders = sorted(os.listdir(data_path))[2:]\n",
    "file_names = [path for path in sorted(os.listdir(data_path + folders[0])) if path[0].isalpha()]\n",
    "#img_path = [data_path + folders[0] + '/' + path for path in sorted(os.listdir(data_path + folders[0])) if path[0].isalpha()]\n",
    "#roi_path = [data_path + folders[-1] + '/' + path for path in sorted(os.listdir(data_path + folders[-1])) if path[0].isalpha()]\n",
    "#img_path = os.path.join(data_path, 'imagesTr/BRATS_001.nii.gz')\n",
    "#roi_path = os.path.join(data_path, 'labelsTr/BRATS_001.nii.gz')\n",
    "print(len(file_names))"
   ]
  },
  {
   "cell_type": "code",
   "execution_count": 6,
   "id": "13a8ab1a",
   "metadata": {},
   "outputs": [
    {
     "data": {
      "text/plain": [
       "['hippocampus_001.nii.gz', 'hippocampus_003.nii.gz']"
      ]
     },
     "execution_count": 6,
     "metadata": {},
     "output_type": "execute_result"
    }
   ],
   "source": [
    "[patient for patient in file_names[0:2]]"
   ]
  },
  {
   "cell_type": "code",
   "execution_count": 7,
   "id": "3ef53925",
   "metadata": {},
   "outputs": [
    {
     "data": {
      "text/plain": [
       "'Task04_Hippocampus'"
      ]
     },
     "execution_count": 7,
     "metadata": {},
     "output_type": "execute_result"
    }
   ],
   "source": [
    "data_path[:-1]"
   ]
  },
  {
   "cell_type": "code",
   "execution_count": 8,
   "id": "3d93dfea",
   "metadata": {},
   "outputs": [],
   "source": [
    "n4_iterations = [50,50,30,20]\n",
    "spacing = '1,1,1'\n",
    "interp_type = 'nearestNeighbor'\n",
    "work_dir = '/Users/aprilyan/Documents/capstone/MSD/'\n",
    "interp_type = 'nearestNeighbor'\n",
    "slicer_dir = '/Users/aprilyan/Applications/Slicer-4.11.20210226-macosx-amd64/Slicer'"
   ]
  },
  {
   "cell_type": "code",
   "execution_count": 9,
   "id": "d859976a",
   "metadata": {},
   "outputs": [],
   "source": [
    "def generate_filepath(work_dir, data_path, folder_tag, subfolder, input_filename):\n",
    "    \"\"\"\n",
    "    subfolder = '/imagesTr', '/labelsTr'\n",
    "    \"\"\"\n",
    "    input_filepath = work_dir + data_path[:-1] + subfolder +'/' + input_filename\n",
    "    output_filepath = work_dir + data_path[:-1] + folder_tag + subfolder + '/' + input_filename\n",
    "    \n",
    "    return input_filepath, output_filepath"
   ]
  },
  {
   "cell_type": "code",
   "execution_count": 10,
   "id": "ae4ae2f2",
   "metadata": {},
   "outputs": [
    {
     "data": {
      "text/plain": [
       "('/Users/aprilyan/Documents/capstone/MSD/Task04_Hippocampus/imagesTr/hippocampus_019.nii.gz',\n",
       " '/Users/aprilyan/Documents/capstone/MSD/Task04_Hippocampus_normal/imagesTr/hippocampus_019.nii.gz')"
      ]
     },
     "execution_count": 10,
     "metadata": {},
     "output_type": "execute_result"
    }
   ],
   "source": [
    "generate_filepath(work_dir, data_path, subfolder='/imagesTr', input_filename=file_names[10], folder_tag='_normal')"
   ]
  },
  {
   "cell_type": "code",
   "execution_count": 11,
   "id": "ed066a91",
   "metadata": {},
   "outputs": [],
   "source": [
    "file_test = generate_filepath(work_dir, data_path, subfolder='/imagesTr', input_filename=file_names[0], folder_tag='_normal')"
   ]
  },
  {
   "cell_type": "code",
   "execution_count": 12,
   "id": "ddd22148",
   "metadata": {},
   "outputs": [
    {
     "data": {
      "text/plain": [
       "array([0., 1., 2.])"
      ]
     },
     "execution_count": 12,
     "metadata": {},
     "output_type": "execute_result"
    }
   ],
   "source": [
    "nib_vol = nib.load(work_dir+'Patients_Hippocampus/Train/Hippocampus_001/roi.nii.gz').get_fdata()\n",
    "np.unique(nib_vol)"
   ]
  },
  {
   "cell_type": "code",
   "execution_count": 42,
   "id": "2c3e3d96",
   "metadata": {},
   "outputs": [
    {
     "data": {
      "text/plain": [
       "<matplotlib.image.AxesImage at 0x7fe3637bc070>"
      ]
     },
     "execution_count": 42,
     "metadata": {},
     "output_type": "execute_result"
    },
    {
     "data": {
      "image/png": "[encoded data removed]",
      "text/plain": [
       "<Figure size 432x288 with 1 Axes>"
      ]
     },
     "metadata": {
      "needs_background": "light"
     },
     "output_type": "display_data"
    }
   ],
   "source": [
    "plt.imshow(nib_vol[:,25,:], cmap='gray')"
   ]
  },
  {
   "cell_type": "markdown",
   "id": "d4c49283",
   "metadata": {},
   "source": [
    "### Preprocessing: 3 steps (resampling, bias correction, normalization)"
   ]
  },
  {
   "cell_type": "markdown",
   "id": "ada83734",
   "metadata": {},
   "source": [
    "#### Resampling: voxel spacing = 1,1,1"
   ]
  },
  {
   "cell_type": "code",
   "execution_count": 8,
   "id": "2e305e26",
   "metadata": {},
   "outputs": [],
   "source": [
    "# this one doesn't work because of slicer \n",
    "def resample_vol_slicer(work_dir, data_path, voxel_spacing, slicer_dir, interp_type,\n",
    "                        subfolder, input_filename, folder_tag=\"\"):\n",
    "    input_filepath, output_filepath = generate_filepath(work_dir, data_path, folder_tag, subfolder, input_filename)\n",
    "    module_name = 'ResampleScalarVolume'\n",
    "    resample_scalar_volume_command = [slicer_dir,'--launch', module_name, '\"' + input_filepath + '\" \"' + output_filepath + '\"', \n",
    "                                      '-i', interp_type, '-s', voxel_spacing]\n",
    "    call(' '.join(resample_scalar_volume_command), shell=True)\n",
    "    return output_filepath"
   ]
  },
  {
   "cell_type": "code",
   "execution_count": 9,
   "id": "6e44a974",
   "metadata": {},
   "outputs": [],
   "source": [
    "def resampling_vol(work_dir, data_path, voxel_spacing, subfolder, input_filename, folder_tag=\"\"):\n",
    "    \"\"\"\n",
    "    input_filepath: one for each iteration\n",
    "    voxel_spacing = (1,1,1,1)\n",
    "    \"\"\"\n",
    "    input_filepath, output_filepath = generate_filepath(work_dir, data_path, folder_tag, subfolder, input_filename)\n",
    "    nib_vol = nib.load(input_filepath)\n",
    "    affine = nib_vol.get_affine()\n",
    "    header = nib_vol.get_header()\n",
    "    vol = nib_vol.get_data()\n",
    "    header.set_zooms(voxel_spacing)\n",
    "    nib_vol_resampled = nib.Nifti1Image(vol, affine, header=header)\n",
    "    nib.save(nib_vol_resampled, output_filepath)\n",
    "    \n",
    "    return output_filepath"
   ]
  },
  {
   "cell_type": "markdown",
   "id": "8c14b7dc",
   "metadata": {},
   "source": [
    "#### N4 Bias Correction"
   ]
  },
  {
   "cell_type": "code",
   "execution_count": 10,
   "id": "e06f12bd",
   "metadata": {},
   "outputs": [],
   "source": [
    "# def n4_bias_correction(nifti_dir, patient, vols_to_process, n4_iterations, mask_image=None, append_tag=None):\n",
    "#     #input/output filepaths\n",
    "#     input_filepaths, output_filenames, output_filepaths = generate_filepaths(nifti_dir, patient, vols_to_process, append_tag)\n",
    "#     for input_filepath, output_filepath in zip(input_filepaths, output_filepaths):\n",
    "#         n4 = N4BiasFieldCorrection(output_image = output_filepath)\n",
    "#         n4.inputs.input_image = input_filepath\n",
    "#         n4.inputs.n_iterations = n4_iterations\n",
    "#         if mask_image != None:\n",
    "#             n4.inputs.mask_image = os.path.join(nifti_dir + patient, mask_image)\n",
    "#         n4.run()\n",
    "#     #return created file names\n",
    "#     return output_filenames"
   ]
  },
  {
   "cell_type": "code",
   "execution_count": null,
   "id": "fa7985db",
   "metadata": {},
   "outputs": [],
   "source": []
  },
  {
   "cell_type": "code",
   "execution_count": 20,
   "id": "e63f5bb9",
   "metadata": {},
   "outputs": [],
   "source": [
    "def n4_bias_correction(n4_iterations, work_dir, data_path, input_filename, subfolder, folder_tag='_process', image_dim=4):\n",
    "    \"\"\"\n",
    "    folder_tag='_process/imagesTr'\n",
    "    \"\"\"\n",
    "    input_filepath, output_filepath = generate_filepath(work_dir, data_path, folder_tag, subfolder, input_filename)\n",
    "    n4 = N4BiasFieldCorrection(output_image = output_filepath)\n",
    "    n4.inputs.dimension = image_dim\n",
    "    n4.inputs.input_image = input_filepath \n",
    "    n4.inputs.n_iterations = n4_iterations \n",
    "    n4.run()\n",
    "    \n",
    "    return output_filepath"
   ]
  },
  {
   "cell_type": "markdown",
   "id": "03f9e49a",
   "metadata": {},
   "source": [
    "#### Register labels for slicer visualization"
   ]
  },
  {
   "cell_type": "code",
   "execution_count": 12,
   "id": "3dc20f77",
   "metadata": {},
   "outputs": [],
   "source": [
    "def register_labels(new_affine, work_dir, data_path, input_filename, subfolder, folder_tag='_register'):\n",
    "    input_filepath, output_filepath = generate_filepath(work_dir, data_path, folder_tag, subfolder, input_filename)\n",
    "    nib_vol = nib.load(input_filepath)\n",
    "    header = nib_vol.get_header()\n",
    "    roi = nib_vol.get_data()\n",
    "    nib_vol_resampled = nib.Nifti1Image(roi, new_affine, header=header)\n",
    "    nib.save(nib_vol_resampled, output_filepath)"
   ]
  },
  {
   "cell_type": "code",
   "execution_count": 13,
   "id": "8137089e",
   "metadata": {},
   "outputs": [],
   "source": [
    "new_affine = [[-1, 0, 0 ,0],[0, -1, 0, 0], [0, 0, -1, 0], [0, 0, 0, 1]]\n",
    "def all_register(patient):\n",
    "    register_labels(new_affine, work_dir, data_path, \n",
    "                    input_filename=patient, subfolder='/labelsTr', folder_tag='_register')\n",
    "# num_cores = multiprocessing.cpu_count()\n",
    "# Parallel(n_jobs=num_cores)(delayed(all_register)(patient) for patient in file_names)"
   ]
  },
  {
   "cell_type": "markdown",
   "id": "57ef8105",
   "metadata": {},
   "source": [
    "#### Intensity Normalization"
   ]
  },
  {
   "cell_type": "code",
   "execution_count": 14,
   "id": "111e00bd",
   "metadata": {},
   "outputs": [],
   "source": [
    "def vol_normalization(work_dir, data_path, input_filename, subfolder,\n",
    "                     only_nonzero=False, reference_volume = None, skull_mask_volume=None,\n",
    "                      normalization_params=np.array([]), folder_tag='_normal'):\n",
    "    \"\"\"\n",
    "    folder_tag='_normal/imagesTr'\n",
    "    \"\"\"\n",
    "    input_filepath, output_filepath = generate_filepath(work_dir, data_path, folder_tag, subfolder, input_filename)\n",
    "    nib_vol = nib.load(input_filepath)\n",
    "    affine = nib_vol.get_affine()\n",
    "    header = nib_vol.get_header()\n",
    "    vol = nib_vol.get_fdata()\n",
    "\n",
    "    if len(normalization_params) > 0 and len(normalization_params.shape) == 1:\n",
    "        normalization_params = np.tile(normalization_params, (len(vols_to_process), 1))\n",
    "    if reference_volume != None:\n",
    "        reference_vol = nib.load(os.path.join(nifti_dir + patient, reference_volume)).get_data()\n",
    "        skull_mask = (reference_vol != 0).astype(np.int)\n",
    "    if skull_mask_volume != None:\n",
    "        skull_mask_vol = nib.load(os.path.join(nifti_dir + patient, skull_mask_volume)).get_data()\n",
    "        skull_mask = (skull_mask_vol != 0).astype(np.int)\n",
    "\n",
    "    #Normalize only non-zero intensity values (if flag set to true)\n",
    "    if only_nonzero == True and reference_volume == None and skull_mask_volume == None:\n",
    "        idx_nz = np.nonzero(vol)\n",
    "    elif only_nonzero == True and (reference_volume != None or skull_mask_volume != None):\n",
    "        idx_nz = np.nonzero(skull_mask)\n",
    "    else:\n",
    "        idx_nz = np.where(vol)\n",
    "    \n",
    "    if len(normalization_params) == 0:\n",
    "        mean, std = np.mean(vol[idx_nz]), np.std(vol[idx_nz])\n",
    "    else:\n",
    "        mean, std = normalization_params[i, :]\n",
    "    vol_norm = np.copy(vol)\n",
    "    \n",
    "    if reference_volume == None:\n",
    "        vol_norm[idx_nz] = (vol_norm[idx_nz] - mean) / std\n",
    "    else:\n",
    "        vol_norm = (vol_norm - mean) / std\n",
    "    nib_vol_norm = nib.Nifti1Image(vol_norm, affine, header=header)\n",
    "    nib.save(nib_vol_norm, output_filepath)\n",
    "    \n",
    "    return output_filepath"
   ]
  },
  {
   "cell_type": "code",
   "execution_count": 15,
   "id": "a5a5ca77",
   "metadata": {},
   "outputs": [],
   "source": [
    "# work_dir = '/Users/aprilyan/Documents/capstone'\n",
    "# output_filepath = work_dir + '/MSD/Task01_BrainTumour_process/imagesTr' + '/BRATS_001.nii.gz'\n",
    "# input_filepath = output_filepath\n",
    "\n",
    "# output_filepath = work_dir + '/MSD/Task01_BrainTumour_normal/imagesTr' + '/BRATS_001.nii.gz'\n",
    "# print(input_filepath)\n",
    "# print(output_filepath)"
   ]
  },
  {
   "cell_type": "markdown",
   "id": "5e872b3a",
   "metadata": {},
   "source": [
    "### Run processing over all images"
   ]
  },
  {
   "cell_type": "code",
   "execution_count": 24,
   "id": "091e7c65",
   "metadata": {},
   "outputs": [
    {
     "data": {
      "text/plain": [
       "[None,\n",
       " None,\n",
       " None,\n",
       " None,\n",
       " None,\n",
       " None,\n",
       " None,\n",
       " None,\n",
       " None,\n",
       " None,\n",
       " None,\n",
       " None,\n",
       " None,\n",
       " None,\n",
       " None,\n",
       " None,\n",
       " None,\n",
       " None,\n",
       " None,\n",
       " None,\n",
       " None,\n",
       " None,\n",
       " None,\n",
       " None,\n",
       " None,\n",
       " None,\n",
       " None,\n",
       " None,\n",
       " None,\n",
       " None,\n",
       " None,\n",
       " None,\n",
       " None,\n",
       " None,\n",
       " None,\n",
       " None,\n",
       " None,\n",
       " None,\n",
       " None,\n",
       " None,\n",
       " None,\n",
       " None,\n",
       " None,\n",
       " None,\n",
       " None,\n",
       " None,\n",
       " None,\n",
       " None,\n",
       " None,\n",
       " None,\n",
       " None,\n",
       " None,\n",
       " None,\n",
       " None,\n",
       " None,\n",
       " None,\n",
       " None,\n",
       " None,\n",
       " None,\n",
       " None,\n",
       " None,\n",
       " None,\n",
       " None,\n",
       " None,\n",
       " None,\n",
       " None,\n",
       " None,\n",
       " None,\n",
       " None,\n",
       " None,\n",
       " None,\n",
       " None,\n",
       " None,\n",
       " None,\n",
       " None,\n",
       " None,\n",
       " None,\n",
       " None,\n",
       " None,\n",
       " None,\n",
       " None,\n",
       " None,\n",
       " None,\n",
       " None,\n",
       " None,\n",
       " None,\n",
       " None,\n",
       " None,\n",
       " None,\n",
       " None,\n",
       " None,\n",
       " None,\n",
       " None,\n",
       " None,\n",
       " None,\n",
       " None,\n",
       " None,\n",
       " None,\n",
       " None,\n",
       " None,\n",
       " None,\n",
       " None,\n",
       " None,\n",
       " None,\n",
       " None,\n",
       " None,\n",
       " None,\n",
       " None,\n",
       " None,\n",
       " None,\n",
       " None,\n",
       " None,\n",
       " None,\n",
       " None,\n",
       " None,\n",
       " None,\n",
       " None,\n",
       " None,\n",
       " None,\n",
       " None,\n",
       " None,\n",
       " None,\n",
       " None,\n",
       " None,\n",
       " None,\n",
       " None,\n",
       " None,\n",
       " None,\n",
       " None,\n",
       " None,\n",
       " None,\n",
       " None,\n",
       " None,\n",
       " None,\n",
       " None,\n",
       " None,\n",
       " None,\n",
       " None,\n",
       " None,\n",
       " None,\n",
       " None,\n",
       " None,\n",
       " None,\n",
       " None,\n",
       " None,\n",
       " None,\n",
       " None,\n",
       " None,\n",
       " None,\n",
       " None,\n",
       " None,\n",
       " None,\n",
       " None,\n",
       " None,\n",
       " None,\n",
       " None,\n",
       " None,\n",
       " None,\n",
       " None,\n",
       " None,\n",
       " None,\n",
       " None,\n",
       " None,\n",
       " None,\n",
       " None,\n",
       " None,\n",
       " None,\n",
       " None,\n",
       " None,\n",
       " None,\n",
       " None,\n",
       " None,\n",
       " None,\n",
       " None,\n",
       " None,\n",
       " None,\n",
       " None,\n",
       " None,\n",
       " None,\n",
       " None,\n",
       " None,\n",
       " None,\n",
       " None,\n",
       " None,\n",
       " None,\n",
       " None,\n",
       " None,\n",
       " None,\n",
       " None,\n",
       " None,\n",
       " None,\n",
       " None,\n",
       " None,\n",
       " None,\n",
       " None,\n",
       " None,\n",
       " None,\n",
       " None,\n",
       " None,\n",
       " None,\n",
       " None,\n",
       " None,\n",
       " None,\n",
       " None,\n",
       " None,\n",
       " None,\n",
       " None,\n",
       " None,\n",
       " None,\n",
       " None,\n",
       " None,\n",
       " None,\n",
       " None,\n",
       " None,\n",
       " None,\n",
       " None,\n",
       " None,\n",
       " None,\n",
       " None,\n",
       " None,\n",
       " None,\n",
       " None,\n",
       " None,\n",
       " None,\n",
       " None,\n",
       " None,\n",
       " None,\n",
       " None,\n",
       " None,\n",
       " None,\n",
       " None,\n",
       " None,\n",
       " None,\n",
       " None,\n",
       " None,\n",
       " None,\n",
       " None,\n",
       " None,\n",
       " None,\n",
       " None,\n",
       " None,\n",
       " None,\n",
       " None,\n",
       " None,\n",
       " None,\n",
       " None,\n",
       " None,\n",
       " None,\n",
       " None,\n",
       " None,\n",
       " None,\n",
       " None]"
      ]
     },
     "execution_count": 24,
     "metadata": {},
     "output_type": "execute_result"
    }
   ],
   "source": [
    "def all_preprocessing(patient):\n",
    "#     resampled_img = resample_vol_slicer(work_dir, data_path, spacing, slicer_dir, interp_type,\n",
    "#                         subfolder='/imagesTr', input_filename=patient, folder_tag=\"\")\n",
    "#     resampled_roi = resample_vol_slicer(work_dir, data_path, spacing, slicer_dir, interp_type,\n",
    "#                         subfolder='/labelsTr', input_filename=patient, folder_tag=\"\")\n",
    "#     resampled_img = resample_vol_slicer(work_dir, data_path, voxel_spacing=(1.0, 1.0, 1.0, 1.0), \n",
    "#                                    input_filename=patient, subfolder='/imagesTr', folder_tag=\"\")\n",
    "#     resampled_roi = resampling_vol(work_dir, data_path, voxel_spacing=(1.0, 1.0, 1.0), \n",
    "#                                    input_filename=patient, subfolder='/labelsTr', folder_tag=\"\")\n",
    "    process_img = n4_bias_correction(n4_iterations, work_dir, data_path, \n",
    "                                     input_filename=patient, subfolder='/imagesTr', folder_tag='_process',\n",
    "                                    image_dim=3)\n",
    "    normalize_img = vol_normalization(work_dir, data_path, \n",
    "                                      input_filename=patient, subfolder='/imagesTr',\n",
    "                                      only_nonzero=False, reference_volume=None, skull_mask_volume=None,\n",
    "                                      normalization_params=np.array([]), folder_tag='_normal')\n",
    "    return print('Done')\n",
    "\n",
    "num_cores = multiprocessing.cpu_count()\n",
    "Parallel(n_jobs=num_cores)(delayed(all_preprocessing)(patient) for patient in file_names[8:])"
   ]
  },
  {
   "cell_type": "code",
   "execution_count": null,
   "id": "de7192cb",
   "metadata": {},
   "outputs": [],
   "source": [
    "patient = file_names[0]\n",
    "resampled_img = resample_vol_slicer(work_dir, data_path, spacing, slicer_dir, interp_type,\n",
    "                        subfolder='/imagesTr', input_filename=patient, folder_tag=\"_resample\")"
   ]
  },
  {
   "cell_type": "code",
   "execution_count": null,
   "id": "edf56fbc",
   "metadata": {},
   "outputs": [],
   "source": [
    "resampled_img"
   ]
  }
 ],
 "metadata": {
  "kernelspec": {
   "display_name": "Python 3",
   "language": "python",
   "name": "python3"
  },
  "language_info": {
   "codemirror_mode": {
    "name": "ipython",
    "version": 3
   },
   "file_extension": ".py",
   "mimetype": "text/x-python",
   "name": "python",
   "nbconvert_exporter": "python",
   "pygments_lexer": "ipython3",
   "version": "3.8.8"
  }
 },
 "nbformat": 4,
 "nbformat_minor": 5
}
