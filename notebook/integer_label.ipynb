{
 "cells": [
  {
   "cell_type": "code",
   "execution_count": 2,
   "id": "d734d2ba",
   "metadata": {},
   "outputs": [],
   "source": [
    "%matplotlib inline\n",
    "import numpy as np\n",
    "from matplotlib import pyplot as plt\n",
    "import os\n",
    "import nibabel as nib\n",
    "from scipy.ndimage import find_objects\n",
    "import SimpleITK as sitk"
   ]
  },
  {
   "cell_type": "code",
   "execution_count": 4,
   "id": "e43fb3a4",
   "metadata": {},
   "outputs": [],
   "source": [
    "work_folder = '/Users/aprilyan/Documents/capstone/MSD/Patients_Pancreas_2'\n",
    "subfolders = ['/Train/','/Val/','/Test']\n",
    "pat_folder = os.listdir(work_folder + subfolders[0])\n",
    "img_path = work_folder + subfolders[0] + pat_folder[0] + '/image.nii.gz'\n",
    "roi_path = work_folder + subfolders[0] + pat_folder[0] + '/roi.nii.gz'"
   ]
  },
  {
   "cell_type": "code",
   "execution_count": null,
   "id": "bd8b1d45",
   "metadata": {},
   "outputs": [],
   "source": [
    "output_filepath"
   ]
  },
  {
   "cell_type": "code",
   "execution_count": null,
   "id": "0e94e768",
   "metadata": {},
   "outputs": [],
   "source": [
    "nib_roi = nib.load(work_folder + subfolders[0] + pat_folder[0] + '/roi.nii.gz')\n",
    "roi = nib_roi.get_fdata()\n",
    "# nib_img = nib.load(work_folder + subfolders[0] + pat_folder[0] + '/image.nii.gz')\n",
    "# affine = nib_roi.affine \n",
    "# header = roi_file.header "
   ]
  },
  {
   "cell_type": "code",
   "execution_count": null,
   "id": "0d91764d",
   "metadata": {},
   "outputs": [],
   "source": [
    "roi = np.round(roi).astype(int) \n",
    "new_nib_roi = nib.Nifti1Image(roi, affine=nib_roi.affine) \n",
    "nib.save(new_nib_roi, output_filepath) "
   ]
  },
  {
   "cell_type": "code",
   "execution_count": null,
   "id": "a2e42dfd",
   "metadata": {},
   "outputs": [],
   "source": [
    "np.unique(roi)"
   ]
  },
  {
   "cell_type": "code",
   "execution_count": null,
   "id": "551bcac1",
   "metadata": {},
   "outputs": [],
   "source": []
  },
  {
   "cell_type": "code",
   "execution_count": null,
   "id": "d39e86e1",
   "metadata": {},
   "outputs": [],
   "source": [
    "nib_roi_new = nib.load(roi_path)\n",
    "roi_new = nib_roi_new.get_fdata()\n",
    "np.unique(roi_new) "
   ]
  },
  {
   "cell_type": "code",
   "execution_count": null,
   "id": "d68958d4",
   "metadata": {},
   "outputs": [],
   "source": [
    "plt.imshow(roi_new[:,:,35], cmap='gray')"
   ]
  },
  {
   "cell_type": "code",
   "execution_count": 5,
   "id": "2b8103ab",
   "metadata": {},
   "outputs": [],
   "source": [
    "img_path = 'Task07_Pancreas/imagesTr/pancreas_110.nii.gz'\n",
    "roi_path = 'Task07_Pancreas/labelsTr/pancreas_110.nii.gz'\n",
    "output_filepath = work_folder + subfolders[0] + pat_folder[0] + '/roi_new.nii.gz'\n",
    "output_imgpath = work_folder + subfolders[0] + pat_folder[0] + '/image_new.nii.gz'\n",
    "image = sitk.ReadImage(img_path)\n",
    "roi = sitk.ReadImage(roi_path)"
   ]
  },
  {
   "cell_type": "code",
   "execution_count": 6,
   "id": "d09c14ef",
   "metadata": {},
   "outputs": [],
   "source": [
    "def resample_image(itk_image, out_spacing, is_label):\n",
    "    original_spacing = itk_image.GetSpacing()\n",
    "    original_size = itk_image.GetSize()\n",
    "\n",
    "    out_size = [\n",
    "        int(np.round(original_size[0] * (original_spacing[0] / out_spacing[0]))),\n",
    "        int(np.round(original_size[1] * (original_spacing[1] / out_spacing[1]))),\n",
    "        int(np.round(original_size[2] * (original_spacing[2] / out_spacing[2])))\n",
    "    ]\n",
    "\n",
    "    resample = sitk.ResampleImageFilter()\n",
    "    resample.SetOutputSpacing(out_spacing)\n",
    "    resample.SetSize(out_size)\n",
    "    resample.SetOutputDirection(itk_image.GetDirection())\n",
    "    resample.SetOutputOrigin(itk_image.GetOrigin())\n",
    "    resample.SetTransform(sitk.Transform())\n",
    "    resample.SetDefaultPixelValue(itk_image.GetPixelIDValue())\n",
    "\n",
    "    if is_label:\n",
    "        resample.SetInterpolator(sitk.sitkNearestNeighbor)\n",
    "    else:\n",
    "        resample.SetInterpolator(sitk.sitkBSpline)\n",
    "\n",
    "    return resample.Execute(itk_image)"
   ]
  },
  {
   "cell_type": "code",
   "execution_count": 7,
   "id": "915580af",
   "metadata": {},
   "outputs": [],
   "source": [
    "resampled_img = resample_image(image, out_spacing=[0.8, 0.8, 2.5], is_label=False) \n",
    "resampled_roi = resample_image(roi, out_spacing=[0.8, 0.8, 2.5], is_label=True) "
   ]
  },
  {
   "cell_type": "code",
   "execution_count": 11,
   "id": "f563567e",
   "metadata": {},
   "outputs": [
    {
     "data": {
      "text/plain": [
       "array([[[0, 0, 0, ..., 0, 0, 0],\n",
       "        [0, 0, 0, ..., 0, 0, 0],\n",
       "        [0, 0, 0, ..., 0, 0, 0],\n",
       "        ...,\n",
       "        [0, 0, 0, ..., 0, 0, 0],\n",
       "        [0, 0, 0, ..., 0, 0, 0],\n",
       "        [0, 0, 0, ..., 0, 0, 0]],\n",
       "\n",
       "       [[0, 0, 0, ..., 0, 0, 0],\n",
       "        [0, 0, 0, ..., 0, 0, 0],\n",
       "        [0, 0, 0, ..., 0, 0, 0],\n",
       "        ...,\n",
       "        [0, 0, 0, ..., 0, 0, 0],\n",
       "        [0, 0, 0, ..., 0, 0, 0],\n",
       "        [0, 0, 0, ..., 0, 0, 0]],\n",
       "\n",
       "       [[0, 0, 0, ..., 0, 0, 0],\n",
       "        [0, 0, 0, ..., 0, 0, 0],\n",
       "        [0, 0, 0, ..., 0, 0, 0],\n",
       "        ...,\n",
       "        [0, 0, 0, ..., 0, 0, 0],\n",
       "        [0, 0, 0, ..., 0, 0, 0],\n",
       "        [0, 0, 0, ..., 0, 0, 0]],\n",
       "\n",
       "       ...,\n",
       "\n",
       "       [[0, 0, 0, ..., 0, 0, 0],\n",
       "        [0, 0, 0, ..., 0, 0, 0],\n",
       "        [0, 0, 0, ..., 0, 0, 0],\n",
       "        ...,\n",
       "        [0, 0, 0, ..., 0, 0, 0],\n",
       "        [0, 0, 0, ..., 0, 0, 0],\n",
       "        [0, 0, 0, ..., 0, 0, 0]],\n",
       "\n",
       "       [[0, 0, 0, ..., 0, 0, 0],\n",
       "        [0, 0, 0, ..., 0, 0, 0],\n",
       "        [0, 0, 0, ..., 0, 0, 0],\n",
       "        ...,\n",
       "        [0, 0, 0, ..., 0, 0, 0],\n",
       "        [0, 0, 0, ..., 0, 0, 0],\n",
       "        [0, 0, 0, ..., 0, 0, 0]],\n",
       "\n",
       "       [[0, 0, 0, ..., 0, 0, 0],\n",
       "        [0, 0, 0, ..., 0, 0, 0],\n",
       "        [0, 0, 0, ..., 0, 0, 0],\n",
       "        ...,\n",
       "        [0, 0, 0, ..., 0, 0, 0],\n",
       "        [0, 0, 0, ..., 0, 0, 0],\n",
       "        [0, 0, 0, ..., 0, 0, 0]]], dtype=uint8)"
      ]
     },
     "execution_count": 11,
     "metadata": {},
     "output_type": "execute_result"
    }
   ],
   "source": [
    "sitk.GetArrayFromImage(resampled_roi)"
   ]
  },
  {
   "cell_type": "code",
   "execution_count": 30,
   "id": "94bd2e16",
   "metadata": {},
   "outputs": [],
   "source": [
    "sitk.WriteImage(resampled_img, output_imgpath)"
   ]
  },
  {
   "cell_type": "code",
   "execution_count": 31,
   "id": "685e4cdf",
   "metadata": {},
   "outputs": [],
   "source": [
    "sitk.WriteImage(resampled_roi, output_filepath)"
   ]
  },
  {
   "cell_type": "code",
   "execution_count": 32,
   "id": "b3699539",
   "metadata": {},
   "outputs": [
    {
     "data": {
      "text/plain": [
       "(512, 512, 98)"
      ]
     },
     "execution_count": 32,
     "metadata": {},
     "output_type": "execute_result"
    }
   ],
   "source": [
    "nib.load(output_filepath).get_fdata().shape"
   ]
  },
  {
   "cell_type": "code",
   "execution_count": 33,
   "id": "98b23770",
   "metadata": {},
   "outputs": [
    {
     "data": {
      "text/plain": [
       "(512, 512, 98)"
      ]
     },
     "execution_count": 33,
     "metadata": {},
     "output_type": "execute_result"
    }
   ],
   "source": [
    "nib.load(output_imgpath).get_fdata().shape"
   ]
  },
  {
   "cell_type": "code",
   "execution_count": null,
   "id": "46cd3f32",
   "metadata": {},
   "outputs": [],
   "source": [
    "itk_image = image\n",
    "out_spacing = [0.8, 0.8, 2.5]\n",
    "original_spacing = itk_image.GetSpacing()\n",
    "original_size = itk_image.GetSize()\n",
    "img_origin = itk_image.GetOrigin()\n",
    "is_label = False\n",
    "\n",
    "out_size = [\n",
    "    int(np.round(original_size[0] * (original_spacing[0] / out_spacing[0]))),\n",
    "    int(np.round(original_size[1] * (original_spacing[1] / out_spacing[1]))),\n",
    "    int(np.round(original_size[2] * (original_spacing[2] / out_spacing[2])))\n",
    "]\n",
    "\n",
    "resample = sitk.ResampleImageFilter()\n",
    "resample.SetOutputSpacing(out_spacing)\n",
    "resample.SetSize(out_size)\n",
    "resample.SetOutputDirection(itk_image.GetDirection())\n",
    "resample.SetOutputOrigin(itk_image.GetOrigin())\n",
    "resample.SetTransform(sitk.Transform())\n",
    "resample.SetDefaultPixelValue(itk_image.GetPixelIDValue())\n",
    "\n",
    "if is_label:\n",
    "    resample.SetInterpolator(sitk.sitkNearestNeighbor)\n",
    "else:\n",
    "    resample.SetInterpolator(sitk.sitkBSpline)\n",
    "\n",
    "#return resample.Execute(itk_image)"
   ]
  },
  {
   "cell_type": "code",
   "execution_count": null,
   "id": "984cb30d",
   "metadata": {},
   "outputs": [],
   "source": [
    "original_spacing"
   ]
  },
  {
   "cell_type": "code",
   "execution_count": null,
   "id": "1c214050",
   "metadata": {},
   "outputs": [],
   "source": [
    "original_spacing"
   ]
  },
  {
   "cell_type": "code",
   "execution_count": null,
   "id": "d6c06084",
   "metadata": {},
   "outputs": [],
   "source": []
  }
 ],
 "metadata": {
  "kernelspec": {
   "display_name": "Python 3",
   "language": "python",
   "name": "python3"
  },
  "language_info": {
   "codemirror_mode": {
    "name": "ipython",
    "version": 3
   },
   "file_extension": ".py",
   "mimetype": "text/x-python",
   "name": "python",
   "nbconvert_exporter": "python",
   "pygments_lexer": "ipython3",
   "version": "3.8.8"
  }
 },
 "nbformat": 4,
 "nbformat_minor": 5
}
