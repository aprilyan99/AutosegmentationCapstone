{
 "cells": [
  {
   "cell_type": "code",
   "execution_count": 1,
   "id": "49a68b57",
   "metadata": {},
   "outputs": [],
   "source": [
    "import numpy as np \n",
    "import os \n",
    "from matplotlib import pyplot as plt \n",
    "import nibabel as nib \n",
    "import pandas as pd \n",
    "import seaborn as sns \n",
    "%matplotlib inline "
   ]
  },
  {
   "cell_type": "code",
   "execution_count": 2,
   "id": "d6e6c406",
   "metadata": {},
   "outputs": [],
   "source": [
    "def true_map_modify(y_true):\n",
    "    for i in range(len(np.unique(y_true))):\n",
    "        y_true = np.where(y_true == np.unique(y_true)[i], np.round(np.unique(y_true)[i]), y_true)\n",
    "    return y_true"
   ]
  },
  {
   "cell_type": "code",
   "execution_count": 3,
   "id": "f20796dc",
   "metadata": {},
   "outputs": [],
   "source": [
    "def load_data(pat_dir):\n",
    "    \n",
    "    true_dir = pat_dir + 'roi.nii.gz'\n",
    "    pred_dir = pat_dir + 'model-label.nii.gz'\n",
    "    nib_true, nib_pred = nib.load(true_dir), nib.load(pred_dir)\n",
    "    true, pred = nib_true.get_fdata(), nib_pred.get_fdata()\n",
    "    true = true_map_modify(true)\n",
    "\n",
    "    return true, pred "
   ]
  },
  {
   "cell_type": "code",
   "execution_count": 4,
   "id": "6b1c9c7f",
   "metadata": {},
   "outputs": [],
   "source": [
    "def single_dice_coef(y_true, y_pred_bin):\n",
    "    \n",
    "    # shape of y_true and y_pred_bin: (height, width)\n",
    "    classes = np.unique(y_true)[1:]\n",
    "    dice_coef = np.full(len(classes)+2, float('NaN'))\n",
    "    dice_mean = 0\n",
    "    for i in classes:\n",
    "        intersection = np.sum((y_true == i) * (y_pred_bin == i))\n",
    "        union = np.sum(y_true == i) + np.sum(y_pred_bin == i)\n",
    "        dice = (2*intersection) / union\n",
    "        dice_mean += dice\n",
    "        dice_coef[int(i-1)] = dice\n",
    "    \n",
    "    dice_coef[-1] = dice_mean/len(classes)\n",
    "    \n",
    "    # dice_total\n",
    "    intersection_tot = np.sum((y_true > 0) * (y_pred_bin > 0))\n",
    "    union_tot = np.sum(y_true > 0) + np.sum(y_pred_bin > 0)\n",
    "    dice_tot = (2*intersection_tot) / union_tot\n",
    "    dice_coef[-2] = dice_tot\n",
    "    \n",
    "    if (np.sum(y_true)==0) and (np.sum(y_pred_bin)==0):\n",
    "        return 1\n",
    "    \n",
    "    return dice_coef"
   ]
  },
  {
   "cell_type": "markdown",
   "id": "20b3d674",
   "metadata": {},
   "source": [
    "## Load data"
   ]
  },
  {
   "cell_type": "code",
   "execution_count": 5,
   "id": "9b7d5e16",
   "metadata": {},
   "outputs": [],
   "source": [
    "def generate_dice_array(pat_list, task):\n",
    "    dice_classes = []\n",
    "    for i in range(len(pat_list)):\n",
    "        patient = root + task + pat_list[i] + \"/\"\n",
    "        true, pred = load_data(patient) \n",
    "        dice_class = single_dice_coef(true, pred) \n",
    "        dice_classes.append(dice_class)\n",
    "    return dice_classes"
   ]
  },
  {
   "cell_type": "code",
   "execution_count": 6,
   "id": "5af595ea",
   "metadata": {},
   "outputs": [],
   "source": [
    "def generate_task_df(dice_classes, task:str, column_name:list):\n",
    "    '''\n",
    "    brain tumor: columns = ['edema','non-enhancing tumor','enhancing tumor','mean']\n",
    "    '''\n",
    "    #dice_classes = [np.append(arr,float('NaN')) if len(arr)==2 else arr for arr in dice_classes]\n",
    "    dice_df = pd.DataFrame(dice_classes, columns=column_name)\n",
    "    dice_df = pd.melt(dice_df, var_name='ROI_type', value_name = 'dice_coef')\n",
    "    dice_df['task'] = [task] * len(dice_df)\n",
    "    \n",
    "    return dice_df"
   ]
  },
  {
   "cell_type": "code",
   "execution_count": 7,
   "id": "dee8c84e",
   "metadata": {},
   "outputs": [],
   "source": [
    "def specify_task(task:str):\n",
    "    pat_list = os.listdir(root + task) \n",
    "    pat_list = sorted([pat for pat in pat_list if pat[0].isalpha()])\n",
    "    return pat_list"
   ]
  },
  {
   "cell_type": "code",
   "execution_count": 8,
   "id": "bfe9774f",
   "metadata": {},
   "outputs": [],
   "source": [
    "root = \"Patients_Hepatic/\" \n",
    "# col_names = ['edema','non-enhancing tumor','enhancing tumor','mean']\n",
    "col_names = ['Vessel','Tumor', 'Vessel+Tumor','mean']"
   ]
  },
  {
   "cell_type": "code",
   "execution_count": 10,
   "id": "548c3316",
   "metadata": {},
   "outputs": [],
   "source": [
    "# path = root + 'Val/' + 'Pancreas_367/'\n",
    "# pred = nib.load(path + 'model-label.nii.gz').get_fdata()\n",
    "# roi = nib.load(path + 'roi.nii.gz').get_fdata()"
   ]
  },
  {
   "cell_type": "code",
   "execution_count": null,
   "id": "8e4cb746",
   "metadata": {},
   "outputs": [],
   "source": [
    "roi = true_map_modify(roi)\n",
    "np.unique(roi)"
   ]
  },
  {
   "cell_type": "code",
   "execution_count": null,
   "id": "b8068cce",
   "metadata": {},
   "outputs": [],
   "source": [
    "np.where(roi == 2)"
   ]
  },
  {
   "cell_type": "code",
   "execution_count": null,
   "id": "d995c5dc",
   "metadata": {},
   "outputs": [],
   "source": [
    "single_dice_coef(roi, pred)"
   ]
  },
  {
   "cell_type": "markdown",
   "id": "748a85d7",
   "metadata": {},
   "source": [
    "### Train"
   ]
  },
  {
   "cell_type": "code",
   "execution_count": 11,
   "id": "0861a753",
   "metadata": {},
   "outputs": [],
   "source": [
    "task = 'Train/'\n",
    "pat_list = specify_task(task)\n",
    "dice_classes = generate_dice_array(pat_list, task)\n",
    "dice_train = generate_task_df(dice_classes, 'train', col_names)"
   ]
  },
  {
   "cell_type": "markdown",
   "id": "f134bfd9",
   "metadata": {},
   "source": [
    "### Validation"
   ]
  },
  {
   "cell_type": "code",
   "execution_count": 12,
   "id": "5c8939e4",
   "metadata": {},
   "outputs": [],
   "source": [
    "task = \"Val/\"\n",
    "pat_list = specify_task(task)\n",
    "dice_classes = generate_dice_array(pat_list, task)\n",
    "dice_val = generate_task_df(dice_classes, 'validation', col_names)"
   ]
  },
  {
   "cell_type": "markdown",
   "id": "92451f4a",
   "metadata": {},
   "source": [
    "### Test"
   ]
  },
  {
   "cell_type": "code",
   "execution_count": 13,
   "id": "3275d596",
   "metadata": {},
   "outputs": [],
   "source": [
    "task = \"Test/\"\n",
    "pat_list = specify_task('Test/')\n",
    "dice_classes = generate_dice_array(pat_list, task)\n",
    "dice_test = generate_task_df(dice_classes, 'test', col_names)"
   ]
  },
  {
   "cell_type": "markdown",
   "id": "3bac8636",
   "metadata": {},
   "source": [
    "### Total"
   ]
  },
  {
   "cell_type": "code",
   "execution_count": 14,
   "id": "f4af3f61",
   "metadata": {},
   "outputs": [],
   "source": [
    "df_dice = pd.concat([dice_train, dice_val, dice_test])"
   ]
  },
  {
   "cell_type": "code",
   "execution_count": 3,
   "id": "8b7faef7",
   "metadata": {},
   "outputs": [],
   "source": [
    "#df_dice.to_csv('dice_hepatic_augment.csv', header=True, index=0)"
   ]
  },
  {
   "cell_type": "markdown",
   "id": "936f3f5e",
   "metadata": {},
   "source": [
    "## Plot"
   ]
  },
  {
   "cell_type": "code",
   "execution_count": 25,
   "id": "e0db18d5",
   "metadata": {},
   "outputs": [],
   "source": [
    "df_dice = pd.read_csv('dice_hepatic_augment.csv')"
   ]
  },
  {
   "cell_type": "code",
   "execution_count": 28,
   "id": "1574da4f",
   "metadata": {
    "scrolled": true
   },
   "outputs": [
    {
     "data": {
      "image/png": "[encoded data removed]",
      "text/plain": [
       "<Figure size 720x432 with 1 Axes>"
      ]
     },
     "metadata": {},
     "output_type": "display_data"
    }
   ],
   "source": [
    "sns.set_style(\"whitegrid\")\n",
    "sns.set_palette(\"Purples\")\n",
    "sns.boxplot(x='ROI_type', y='dice_coef', data=df_dice, hue='task', width=0.75)\n",
    "plt.title('Hepatic Vessel and Tumor', fontsize=18)\n",
    "plt.xlabel('ROI', fontsize=14)\n",
    "plt.ylabel('Dice Coefficient',fontsize=14)\n",
    "plt.ylim([0,1])\n",
    "plt.legend(loc='lower right')\n",
    "sns.set(rc={'figure.figsize':(10,6)})"
   ]
  },
  {
   "cell_type": "code",
   "execution_count": null,
   "id": "6138b38e",
   "metadata": {},
   "outputs": [],
   "source": []
  },
  {
   "cell_type": "code",
   "execution_count": null,
   "id": "4f1d2a44",
   "metadata": {},
   "outputs": [],
   "source": []
  }
 ],
 "metadata": {
  "kernelspec": {
   "display_name": "Python 3",
   "language": "python",
   "name": "python3"
  },
  "language_info": {
   "codemirror_mode": {
    "name": "ipython",
    "version": 3
   },
   "file_extension": ".py",
   "mimetype": "text/x-python",
   "name": "python",
   "nbconvert_exporter": "python",
   "pygments_lexer": "ipython3",
   "version": "3.8.8"
  }
 },
 "nbformat": 4,
 "nbformat_minor": 5
}
