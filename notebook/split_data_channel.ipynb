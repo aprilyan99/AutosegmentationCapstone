{
 "cells": [
  {
   "cell_type": "code",
   "execution_count": 1,
   "id": "5d60c32a",
   "metadata": {},
   "outputs": [],
   "source": [
    "import os \n",
    "import numpy as np\n",
    "import shutil\n",
    "import numpy as np\n",
    "from matplotlib import pyplot as plt\n",
    "import nibabel as nib"
   ]
  },
  {
   "cell_type": "code",
   "execution_count": 2,
   "id": "6c3d2ee8",
   "metadata": {},
   "outputs": [],
   "source": [
    "root_dir = '/Users/aprilyan/Documents/capstone/MSD/Patients/'\n",
    "folders = ['Test','Train','Val']"
   ]
  },
  {
   "cell_type": "code",
   "execution_count": 4,
   "id": "4e5387b7",
   "metadata": {},
   "outputs": [],
   "source": [
    "## save data in 4 channels\n",
    "for folder in folders:\n",
    "    task_dir = sorted(os.listdir(root_dir + folder))[:]\n",
    "    for i in task_dir:\n",
    "        img_path = root_dir + folder + '/' + i + '/image.nii.gz'\n",
    "        if os.path.exists(img_path):\n",
    "            image = nib.load(img_path)\n",
    "            img = image.get_fdata()\n",
    "            for j in range(img.shape[-1]):\n",
    "                channel = img[...,j]\n",
    "                new_affine = image.affine\n",
    "                new_header = image.header\n",
    "                new_img = nib.Nifti1Image(channel, new_affine, new_header)\n",
    "                nib.save(new_img, root_dir + folder + '/' + str(i) + '/image' + str(j) + '.nii.gz')\n",
    "            os.remove(img_path)"
   ]
  },
  {
   "cell_type": "code",
   "execution_count": 6,
   "id": "2440b6d9",
   "metadata": {},
   "outputs": [],
   "source": [
    "## change affine back to 1,1,1\n",
    "new_affine = [[1, 0, 0 ,0],[0, 1, 0, 0], [0, 0, 1, 0], [0, 0, 0, 1]]\n",
    "for folder in folders:\n",
    "    task_dir = sorted(os.listdir(root_dir + folder))[0:2]\n",
    "    for i in task_dir:\n",
    "        img_path = root_dir + folder + '/' + i + '/roi.nii.gz'\n",
    "        if os.path.exists(img_path):\n",
    "            image = nib.load(img_path)\n",
    "            img = image.get_fdata()\n",
    "            new_header = image.header\n",
    "            new_img = nib.Nifti1Image(img, new_affine, new_header)\n",
    "            nib.save(new_img, img_path)"
   ]
  },
  {
   "cell_type": "code",
   "execution_count": null,
   "id": "842f7abd",
   "metadata": {},
   "outputs": [],
   "source": []
  },
  {
   "cell_type": "code",
   "execution_count": null,
   "id": "c42e3734",
   "metadata": {},
   "outputs": [],
   "source": []
  }
 ],
 "metadata": {
  "kernelspec": {
   "display_name": "Python 3",
   "language": "python",
   "name": "python3"
  },
  "language_info": {
   "codemirror_mode": {
    "name": "ipython",
    "version": 3
   },
   "file_extension": ".py",
   "mimetype": "text/x-python",
   "name": "python",
   "nbconvert_exporter": "python",
   "pygments_lexer": "ipython3",
   "version": "3.8.8"
  }
 },
 "nbformat": 4,
 "nbformat_minor": 5
}
